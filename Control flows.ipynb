{
 "cells": [
  {
   "cell_type": "markdown",
   "metadata": {},
   "source": [
    "### Try except"
   ]
  },
  {
   "cell_type": "markdown",
   "metadata": {},
   "source": [
    "There might some sections in our code which might throw some errors or exceptions, we write these `try-except` statements to handle these anticipated errors in any manner we want. In the below code block, the error we face is a `FileNotFoundError`.\n",
    "\n",
    "Say the file does exist, but the error occured somewhere after loading the file. In such cases, our code would still show that the file was not found. For this reason, our exceptions need to be specific. "
   ]
  },
  {
   "cell_type": "code",
   "execution_count": 49,
   "metadata": {},
   "outputs": [
    {
     "name": "stdout",
     "output_type": "stream",
     "text": [
      "\n",
      "This file does not seem to exist\n"
     ]
    }
   ],
   "source": [
    "try:\n",
    "    f=open('no_file.txt')#file doesn't exist\n",
    "except Exception:#Eception is case senstive \n",
    "    print('\\nThis file does not seem to exist')"
   ]
  },
  {
   "cell_type": "code",
   "execution_count": 50,
   "metadata": {},
   "outputs": [
    {
     "name": "stdout",
     "output_type": "stream",
     "text": [
      "Something went wrong\n"
     ]
    }
   ],
   "source": [
    "try:\n",
    "    f=open('/home/aravind/Downloads/winequality.csv')\n",
    "    var=bad_var\n",
    "except FileNotFoundError:#this exception is case sensitive\n",
    "    print('Sorry. File not found')\n",
    "except Exception:\n",
    "    print('Something went wrong')"
   ]
  },
  {
   "cell_type": "markdown",
   "metadata": {},
   "source": [
    "The sequence of the except blocks is really important. In the above example, say if `Exception` was before `FileNotFoundError`. Then the message would have been `\"Something went wrong\"` as we wouldn't have even reached the second except block."
   ]
  },
  {
   "cell_type": "code",
   "execution_count": 51,
   "metadata": {},
   "outputs": [
    {
     "name": "stdout",
     "output_type": "stream",
     "text": [
      "name 'bad_var' is not defined\n"
     ]
    }
   ],
   "source": [
    "try:\n",
    "    f=open('/home/aravind/Downloads/winequality.csv')\n",
    "    var=bad_var\n",
    "except FileNotFoundError as e:#the message can also be printed directly\n",
    "    print(e)\n",
    "except Exception as e:\n",
    "    print(e)"
   ]
  },
  {
   "cell_type": "code",
   "execution_count": 52,
   "metadata": {},
   "outputs": [
    {
     "name": "stdout",
     "output_type": "stream",
     "text": [
      "[Errno 2] No such file or directory: 'no_file.txt'\n"
     ]
    }
   ],
   "source": [
    "try:\n",
    "    f=open('no_file.txt')\n",
    "    var=bad_var\n",
    "except FileNotFoundError as e:\n",
    "    print(e)\n",
    "except Exception as e:\n",
    "    print(e)"
   ]
  },
  {
   "cell_type": "markdown",
   "metadata": {},
   "source": [
    "### Else finally\n",
    "`Else` block will run only when no exceptions are faced whereas `finally` would run either way. "
   ]
  },
  {
   "cell_type": "code",
   "execution_count": 53,
   "metadata": {},
   "outputs": [
    {
     "name": "stdout",
     "output_type": "stream",
     "text": [
      "\"fixed acidity\";\"volatile acidity\";\"citric acid\";\"residual sugar\";\"chlorides\";\"free sulfur dioxide\";\"total sulfur dioxide\";\"density\";\"pH\";\"sulphates\";\"alcohol\";\"quality\"\n",
      "\n",
      "Job done.\n"
     ]
    }
   ],
   "source": [
    "try:\n",
    "    f=open('/home/aravind/Downloads/winequality.csv')\n",
    "except FileNotFoundError as e:#the message can also be printed directly\n",
    "    print(e)\n",
    "except Exception as e:\n",
    "    print(e)\n",
    "else:#would run no exceptions are found\n",
    "    it=iter(f)\n",
    "    print(next(it))\n",
    "finally: #would run regardless of whether any execptions were encountered or not\n",
    "    print('Job done.')"
   ]
  },
  {
   "cell_type": "code",
   "execution_count": 54,
   "metadata": {},
   "outputs": [
    {
     "name": "stdout",
     "output_type": "stream",
     "text": [
      "[Errno 2] No such file or directory: 'no_file.txt'\n",
      "Job done.\n"
     ]
    }
   ],
   "source": [
    "try:\n",
    "    f=open('no_file.txt')\n",
    "except FileNotFoundError as e:#the message can also be printed directly\n",
    "    print(e)\n",
    "except Exception as e:\n",
    "    print(e)\n",
    "else:#would run no exceptions are found\n",
    "    it=iter(f)\n",
    "    print(next(it))\n",
    "finally: #would run regardless of whether any execptions were encountered or not\n",
    "    print('Job done.')"
   ]
  },
  {
   "cell_type": "markdown",
   "metadata": {},
   "source": [
    "### Manually raise exceptions\n",
    "We can manually raise exceptions to handle customized exceptions. Say we don't want to read any file whose name has 'wine' in it. We can raise an `AssertionError` and print out a customized message "
   ]
  },
  {
   "cell_type": "code",
   "execution_count": 55,
   "metadata": {},
   "outputs": [
    {
     "name": "stdout",
     "output_type": "stream",
     "text": [
      "No wine insights today\n",
      "Entered Here\n",
      "Job done.\n"
     ]
    }
   ],
   "source": [
    "try:\n",
    "    f=open('/home/aravind/Downloads/winequality.csv')\n",
    "    if 'wine' in f.name:\n",
    "        raise AssertionError('No wine insights today')\n",
    "except FileNotFoundError as e:#the message can also be printed directly\n",
    "    print(e)#raised exception can reach here if FileNotFoundError is raise\n",
    "except Exception as e:\n",
    "    print(e)\n",
    "    print('Entered Here')#the exception raised above reaches here as well\n",
    "else:#would run no exceptions are found\n",
    "    it=iter(f)\n",
    "    print(next(it))\n",
    "finally: #would run regardless of whether any execptions were encountered or not\n",
    "    print('Job done.')"
   ]
  },
  {
   "cell_type": "code",
   "execution_count": 56,
   "metadata": {},
   "outputs": [
    {
     "name": "stdout",
     "output_type": "stream",
     "text": [
      "No wine insights today\n",
      "Job done.\n"
     ]
    }
   ],
   "source": [
    "#Another way of writing the above\n",
    "try:\n",
    "    f=open('/home/aravind/Downloads/winequality.csv')\n",
    "    if 'wine' in f.name:\n",
    "        raise AssertionError\n",
    "except FileNotFoundError as e:#the message can also be printed directly\n",
    "    print(e)\n",
    "except AssertionError :\n",
    "    print('No wine insights today')\n",
    "except Exception as e:\n",
    "    print(e)\n",
    "else:#would run no exceptions are found\n",
    "    it=iter(f)\n",
    "    print(next(it))\n",
    "finally: #would run regardless of whether any execptions were encountered or not\n",
    "    print('Job done.')"
   ]
  },
  {
   "cell_type": "code",
   "execution_count": null,
   "metadata": {
    "collapsed": true
   },
   "outputs": [],
   "source": []
  }
 ],
 "metadata": {
  "kernelspec": {
   "display_name": "Python 3",
   "language": "python",
   "name": "python3"
  },
  "language_info": {
   "codemirror_mode": {
    "name": "ipython",
    "version": 3
   },
   "file_extension": ".py",
   "mimetype": "text/x-python",
   "name": "python",
   "nbconvert_exporter": "python",
   "pygments_lexer": "ipython3",
   "version": "3.6.3"
  }
 },
 "nbformat": 4,
 "nbformat_minor": 2
}
