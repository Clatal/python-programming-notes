{
 "cells": [
  {
   "cell_type": "markdown",
   "metadata": {},
   "source": [
    "### Iterables, Iterators and Iterations\n",
    " \n",
    " **Iteration** is a general term for taking each item of something, one after another. Any time you use a loop, explicit or implicit, to go over a group of items, that is iteration.\n",
    "\n",
    "In Python, **iterable** and **iterator** have specific meanings.\n",
    "\n",
    "An iterable is an object that has an `__iter__` method which returns an iterator, or which defines a  `__getitem__` method(more useful for specific lookup) that can take sequential indexes starting from zero (and raises an IndexError when the indexes are no longer valid). So an **iterable** is an object that you can get an **iterator** from.\n",
    "\n",
    "An iterator is an object with a `next` (Python 2) or `__next__` (Python 3) method.\n",
    "\n",
    "Whenever you use a for loop, or map, or a list comprehension, etc. in Python, the next method is called automatically to get each item from the iterator, thus going through the process of iteration. Most container objects can be looped over using a `for` loop"
   ]
  },
  {
   "cell_type": "code",
   "execution_count": 6,
   "metadata": {},
   "outputs": [
    {
     "name": "stdout",
     "output_type": "stream",
     "text": [
      "C\n",
      "a\n",
      "r\n",
      "t\n",
      "C\n"
     ]
    }
   ],
   "source": [
    "#Method 1:\n",
    "my_str=\"Cart\" #iterable\n",
    "\n",
    "y= my_str.__iter__()#iterator\n",
    "print(y.__next__())\n",
    "print(y.__next__())\n",
    "print(y.__next__())\n",
    "print(y.__next__())\n",
    "#print(y.__next__())#returns an error\n",
    "\n",
    "#Alternativel __getitem__ method can also give the output if an index is provided\n",
    "print(my_str.__getitem__(0))\n"
   ]
  },
  {
   "cell_type": "code",
   "execution_count": 7,
   "metadata": {},
   "outputs": [
    {
     "name": "stdout",
     "output_type": "stream",
     "text": [
      "B\n",
      "l\n"
     ]
    }
   ],
   "source": [
    "#Method 2:\n",
    "my_str=\"Blank\"#iterable\n",
    "it=iter(my_str)#iterator\n",
    "print(next(it))\n",
    "print(next(it))"
   ]
  }
 ],
 "metadata": {
  "kernelspec": {
   "display_name": "Python 3",
   "language": "python",
   "name": "python3"
  },
  "language_info": {
   "codemirror_mode": {
    "name": "ipython",
    "version": 3
   },
   "file_extension": ".py",
   "mimetype": "text/x-python",
   "name": "python",
   "nbconvert_exporter": "python",
   "pygments_lexer": "ipython3",
   "version": "3.6.3"
  }
 },
 "nbformat": 4,
 "nbformat_minor": 2
}
