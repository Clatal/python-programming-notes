{
 "cells": [
  {
   "cell_type": "markdown",
   "metadata": {},
   "source": [
    "### Iterables, Iterators and Iterations\n",
    " \n",
    " **Iteration** is a general term for taking each item of something, one after another. Any time you use a loop, explicit or implicit, to go over a group of items, that is iteration.\n",
    "\n",
    "In Python, **iterable** and **iterator** have specific meanings.\n",
    "\n",
    "An iterable is an object that has an `__iter__` method which returns an iterator, or which defines a  `__getitem__` method(more useful for specific lookup) that can take sequential indexes starting from zero (and raises an IndexError when the indexes are no longer valid). So an **iterable** is an object that you can get an **iterator** from.\n",
    "\n",
    "An iterator is an object with a `next` (Python 2) or `__next__` (Python 3) method.\n",
    "\n",
    "Whenever you use a for loop, or map, or a list comprehension, etc. in Python, the next method is called automatically to get each item from the iterator, thus going through the process of iteration. Most container objects can be looped over using a `for` loop"
   ]
  },
  {
   "cell_type": "code",
   "execution_count": 21,
   "metadata": {},
   "outputs": [
    {
     "name": "stdout",
     "output_type": "stream",
     "text": [
      "C\n",
      "a\n",
      "r\n",
      "t\n",
      "C\n"
     ]
    }
   ],
   "source": [
    "#Method 1:\n",
    "my_str=\"Cart\" #iterable\n",
    "\n",
    "y= my_str.__iter__()#iterator\n",
    "print(y.__next__())\n",
    "print(y.__next__())\n",
    "print(y.__next__())\n",
    "print(y.__next__())\n",
    "#print(y.__next__())#returns an error\n",
    "\n",
    "#Alternativel __getitem__ method can also give the output if an index is provided\n",
    "print(my_str.__getitem__(0))\n"
   ]
  },
  {
   "cell_type": "code",
   "execution_count": 22,
   "metadata": {},
   "outputs": [
    {
     "name": "stdout",
     "output_type": "stream",
     "text": [
      "B\n",
      "l\n"
     ]
    }
   ],
   "source": [
    "#Method 2:\n",
    "my_str=\"Blank\"#iterable\n",
    "it=iter(my_str)#iterator\n",
    "print(next(it))\n",
    "print(it.__next__())#both are the same"
   ]
  },
  {
   "cell_type": "code",
   "execution_count": 23,
   "metadata": {},
   "outputs": [
    {
     "name": "stdout",
     "output_type": "stream",
     "text": [
      "[(0, 'I am writing the first sentence'), (1, ' Here comes the second'), (2, ' This is the last')]\n",
      "[(0, 'I am writing the first sentence'), (1, ' Here comes the second'), (2, ' This is the last')]\n",
      "[(1, 'I am writing the first sentence'), (2, ' Here comes the second'), (3, ' This is the last')]\n",
      "0 I am writing the first sentence\n",
      "1  Here comes the second\n",
      "2  This is the last\n"
     ]
    }
   ],
   "source": [
    "#Enumrate\n",
    "#by default enumaerate starts counting from 0\n",
    "tup_doc_list=[]\n",
    "doc=\"I am writing the first sentence. Here comes the second. This is the last\"\n",
    "split_doc=doc.split('.')\n",
    "\n",
    "#enumerate on any iterables\n",
    "for item in enumerate(split_doc):\n",
    "    #item is a tuple object consisting of the index-value pairs\n",
    "    tup_doc_list.append(item)\n",
    "#returns a list of tuples    \n",
    "print(tup_doc_list)\n",
    "\n",
    "#single line assignment of the previous operation\n",
    "tup_doc_list_1=list(enumerate(split_doc))\n",
    "print(tup_doc_list_1)\n",
    "\n",
    "#if you fancy on starting with 1\n",
    "tup_doc_list_2=list(enumerate(split_doc,start=1))\n",
    "print(tup_doc_list_2)\n",
    "\n",
    "#another way of iterating\n",
    "for count,doc in enumerate(split_doc):\n",
    "    print(count,doc)"
   ]
  },
  {
   "cell_type": "markdown",
   "metadata": {},
   "source": [
    "#### zip\n",
    "\n",
    "`zip()` takes any number of iterables and returns a `zip` object that is an iterator of tuples. If you wanted to print the values of a `zip` object, you can convert it into a list and then print it. Printing just a `zip` object will not return the values unless you unpack it first.\n",
    "\n",
    "We can reverse what has been zipped together by using `zip()` with a little help from `*`, it unpacks an iterable such as a list or a tuple into *positional arguments* in a function call."
   ]
  },
  {
   "cell_type": "code",
   "execution_count": 24,
   "metadata": {},
   "outputs": [
    {
     "name": "stdout",
     "output_type": "stream",
     "text": [
      "[('charles xavier', 'prof x', 'telepathy'), ('bobby drake', 'iceman', 'thermokinesis'), ('kurt wagner', 'nightcrawler', 'teleportation'), ('max eisenhardt', 'magneto', 'magnetokinesis'), ('kitty pride', 'shadowcat', 'intangibility')]\n",
      "<zip object at 0x7f69842ce3c8>\n",
      "('charles xavier', 'prof x', 'telepathy') ('bobby drake', 'iceman', 'thermokinesis') ('kurt wagner', 'nightcrawler', 'teleportation') ('max eisenhardt', 'magneto', 'magnetokinesis') ('kitty pride', 'shadowcat', 'intangibility')\n",
      "('charles xavier', 'bobby drake', 'kurt wagner', 'max eisenhardt', 'kitty pride')\n"
     ]
    }
   ],
   "source": [
    "mutants=['charles xavier','bobby drake','kurt wagner','max eisenhardt','kitty pride']\n",
    "aliases=['prof x', 'iceman', 'nightcrawler', 'magneto', 'shadowcat']\n",
    "powers=['telepathy','thermokinesis','teleportation','magnetokinesis','intangibility']\n",
    "\n",
    "#create a list of tuples\n",
    "mutant_data=list(zip(mutants,aliases,powers))\n",
    "print(mutant_data)\n",
    "\n",
    "mutant_zip=zip(mutants,aliases,powers)\n",
    "print(mutant_zip)#does not reuturn a list of tuples, rather would just return a zip object\n",
    "\n",
    "#unpact the zipped object\n",
    "print(*mutant_zip)\n",
    "\n",
    "mutant_zip=zip(mutants,aliases,powers)\n",
    "#assign unzipped contents to x1,x2,x3\n",
    "x1,x2,x3=zip(*mutant_zip)\n",
    "print(x1)"
   ]
  },
  {
   "cell_type": "markdown",
   "metadata": {},
   "source": [
    "#### List comprehensions vs Generator expressions\n",
    "\n",
    "List comprehensions and generator expressions look very similar in their syntax, except for the use of parentheses `()` in generator expressions and brackets `[]` in list comprehensions. A generator expression produces a genrator object. "
   ]
  },
  {
   "cell_type": "code",
   "execution_count": 25,
   "metadata": {},
   "outputs": [
    {
     "name": "stdout",
     "output_type": "stream",
     "text": [
      "['Naruto', 'Sasuke', 'Minato', 'Sakura']\n",
      "<generator object <genexpr> at 0x7f6984290fc0>\n",
      "Naruto\n",
      "Sasuke\n",
      "Minato\n",
      "Sakura\n"
     ]
    }
   ],
   "source": [
    "#list of names\n",
    "names=['Naruto','Sasuke','Kakashi','Obito','Minato','Sakura','Obito']\n",
    "#list comprehension\n",
    "lc=[name for name in names if len(name)==6]\n",
    "print(lc)\n",
    "#generator expression\n",
    "gen=(name for name in names if len(name)==6)\n",
    "print(gen)#generator object, can be iterated over\n",
    "\n",
    "#iterate and retrieve\n",
    "for gen_name in gen:\n",
    "    print(gen_name)"
   ]
  },
  {
   "cell_type": "markdown",
   "metadata": {},
   "source": [
    "### Generators\n",
    "\n",
    "Generators simplifies creation of iterators. A generator is a function that produces a sequence of results instead of a single value.Each time the `yield` statement is executed the function generates a new value.\n",
    "A generator is also an iterator.The word “generator” is confusingly used to mean both the function that generates and what it generates.\n",
    "When a generator function is called, it returns a generator object without even beginning execution of the function. When `__next__` method is called for the first time, the function starts executing until it reaches `yield` statement. The yielded value is returned by the next call."
   ]
  },
  {
   "cell_type": "code",
   "execution_count": 26,
   "metadata": {},
   "outputs": [
    {
     "name": "stdout",
     "output_type": "stream",
     "text": [
      "<generator object yrange at 0x7f6984290830>\n",
      "before\n",
      "0\n",
      "after\n",
      "before\n",
      "1\n",
      "after\n",
      "before\n",
      "2\n"
     ]
    }
   ],
   "source": [
    "def yrange(n):\n",
    "    i = 0\n",
    "    while i < n:\n",
    "        print(\"before\")\n",
    "        yield i\n",
    "        i += 1\n",
    "        print(\"after\")\n",
    "\n",
    "#define y\n",
    "y=yrange(3)\n",
    "print(y)\n",
    "print(y.__next__())\n",
    "print(y.__next__())\n",
    "print(y.__next__())"
   ]
  },
  {
   "cell_type": "code",
   "execution_count": null,
   "metadata": {
    "collapsed": true
   },
   "outputs": [],
   "source": []
  }
 ],
 "metadata": {
  "kernelspec": {
   "display_name": "Python 3",
   "language": "python",
   "name": "python3"
  },
  "language_info": {
   "codemirror_mode": {
    "name": "ipython",
    "version": 3
   },
   "file_extension": ".py",
   "mimetype": "text/x-python",
   "name": "python",
   "nbconvert_exporter": "python",
   "pygments_lexer": "ipython3",
   "version": "3.6.3"
  }
 },
 "nbformat": 4,
 "nbformat_minor": 2
}
