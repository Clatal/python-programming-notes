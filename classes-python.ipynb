{
 "cells": [
  {
   "cell_type": "markdown",
   "metadata": {},
   "source": [
    "## Classes\n",
    "\n",
    "Why should we use classes? It allows us to logically group our data (** attributes**) and functions(**methods**) in a way that is easy to reuse and also build upon if need be. \n",
    "\n",
    "Assinging a class to a variable will create an **instance** of the class. A class is basically a blueprint for creating instances."
   ]
  },
  {
   "cell_type": "code",
   "execution_count": 80,
   "metadata": {},
   "outputs": [
    {
     "name": "stdout",
     "output_type": "stream",
     "text": [
      "Rex.Vijayan@company.com\n",
      "Vijayan\n",
      "1730.7692307692307\n",
      "1730.7692307692307\n"
     ]
    }
   ],
   "source": [
    "#class for employees\n",
    "class Employee:\n",
    "    \n",
    "    def __init__(self,first,last,pay): #initializer or constructor\n",
    "        #attributes / instance variables\n",
    "        self.first=first\n",
    "        self.last=last\n",
    "        self.pay=pay\n",
    "        self.email=first+'.'+last+'@company.com'\n",
    "    \n",
    "    def per_week_salary(self):#method for calculating weekly pay\n",
    "        return self.pay/52\n",
    "            \n",
    "#emp_1 is an instance of the class Employee        \n",
    "emp_1 = Employee(\"Rex\",\"Vijayan\",90000)#self is passes automatically\n",
    "print(emp_1.email)\n",
    "print(emp_1.last)\n",
    "print(emp_1.per_week_salary()) #parathesis are required because this is a method not an attribute\n",
    "\n",
    "#Methods can be called directly from the class itself, but the instance needs to be passed as a parameter\n",
    "print(Employee.per_week_salary(emp_1))"
   ]
  },
  {
   "cell_type": "markdown",
   "metadata": {},
   "source": [
    "* Class variables - Variables that are shared among all instances of the class\n",
    "* Instance variables - Specific to each instance of the class like first name or last name  \n",
    "Let's build upon the *Employee* class definition and explore these topics"
   ]
  },
  {
   "cell_type": "code",
   "execution_count": 81,
   "metadata": {},
   "outputs": [
    {
     "name": "stdout",
     "output_type": "stream",
     "text": [
      "30000\n",
      "31200.0\n",
      "1.04\n",
      "1.04\n",
      "{'__module__': '__main__', 'annual_raise': 1.04, '__init__': <function Employee.__init__ at 0x7fc3dc4f9ae8>, 'per_week_salary': <function Employee.per_week_salary at 0x7fc3dc543598>, 'new_salary': <function Employee.new_salary at 0x7fc3dc5cc840>, '__dict__': <attribute '__dict__' of 'Employee' objects>, '__weakref__': <attribute '__weakref__' of 'Employee' objects>, '__doc__': None}\n",
      "{'first': 'T', 'last': 'Rex', 'pay': 31200.0, 'email': 'T.Rex@company.com'}\n"
     ]
    }
   ],
   "source": [
    "#class for employees\n",
    "class Employee:\n",
    "    \n",
    "    annual_raise=1.04 #annual percent raise in salary\n",
    "    \n",
    "    def __init__(self,first,last,pay): #initializer or constructor\n",
    "        #attributes / instance variables\n",
    "        self.first=first\n",
    "        self.last=last\n",
    "        self.pay=pay\n",
    "        self.email=first+'.'+last+'@company.com'\n",
    "    \n",
    "    def per_week_salary(self):#method for calculating weekly pay\n",
    "        return self.pay/52\n",
    "    \n",
    "    def new_salary(self):\n",
    "        self.pay=self.pay*Employee.annual_raise #self.annual_raise can also be used\n",
    "    \n",
    "emp_1=Employee(\"T\",\"Rex\",30000)\n",
    "emp_2=Employee(\"Dinosaur\",\"Boss\",35000)\n",
    "\n",
    "print(emp_1.pay)#old salary\n",
    "emp_1.new_salary()#apply annual raise\n",
    "print(emp_1.pay)#new salary\n",
    "\n",
    "print(Employee.annual_raise)\n",
    "print(emp_1.annual_raise) \n",
    "# this will also fetch the same raise amount, however it doesn't have the attribute itself\n",
    "#it is just accesssing the class's attribute raise amount\n",
    "\n",
    "#Namespace class Employee\n",
    "print(Employee.__dict__) #annual_raise can be found here\n",
    "#Namspace of instance emp_1\n",
    "print(emp_1.__dict__) # annual raise cannot be found here"
   ]
  },
  {
   "cell_type": "markdown",
   "metadata": {},
   "source": [
    "\n",
    "Note that using  `self.annual_raise` in the `new_salary` method would have also provided the same output. However, if `annual_raise` attribute is assigned separately to an instance of the class (say `emp_1`). Whenever `new_salary()` method is called, the instance's attribute `annual_raise` would be used instead of the class's  "
   ]
  },
  {
   "cell_type": "code",
   "execution_count": 82,
   "metadata": {},
   "outputs": [
    {
     "name": "stdout",
     "output_type": "stream",
     "text": [
      "35000\n",
      "36750.0\n",
      "1.04\n",
      "1.05\n",
      "1.04\n",
      "{'__module__': '__main__', 'annual_raise': 1.04, '__init__': <function Employee.__init__ at 0x7fc3dc543730>, 'per_week_salary': <function Employee.per_week_salary at 0x7fc3dc543840>, 'new_salary': <function Employee.new_salary at 0x7fc3dc543b70>, '__dict__': <attribute '__dict__' of 'Employee' objects>, '__weakref__': <attribute '__weakref__' of 'Employee' objects>, '__doc__': None}\n",
      "{'first': 'Dinosaur', 'last': 'Boss', 'pay': 36750.0, 'email': 'Dinosaur.Boss@company.com', 'annual_raise': 1.05}\n"
     ]
    }
   ],
   "source": [
    "#class for employees\n",
    "class Employee:\n",
    "    \n",
    "    annual_raise=1.04 #annual percent raise in salary\n",
    "    \n",
    "    def __init__(self,first,last,pay): #initializer or constructor\n",
    "        #attributes / instance variables\n",
    "        self.first=first\n",
    "        self.last=last\n",
    "        self.pay=pay\n",
    "        self.email=first+'.'+last+'@company.com'\n",
    "    \n",
    "    def per_week_salary(self):#method for calculating weekly pay\n",
    "        return self.pay/52\n",
    "    \n",
    "    def new_salary(self):\n",
    "        self.pay=self.pay*self.annual_raise #self.annual_raise can also be used\n",
    "    \n",
    "emp_1=Employee(\"T\",\"Rex\",30000)\n",
    "emp_2=Employee(\"Dinosaur\",\"Boss\",35000)\n",
    "\n",
    "emp_2.annual_raise=1.05\n",
    "\n",
    "print(emp_2.pay)#old salary\n",
    "emp_2.new_salary()#apply annual raise\n",
    "print(emp_2.pay)#new salary\n",
    "\n",
    "print(Employee.annual_raise)\n",
    "print(emp_2.annual_raise) \n",
    "print(emp_1.annual_raise)\n",
    "\n",
    "#Namespace class Employee\n",
    "print(Employee.__dict__) #annual_raise can be found here\n",
    "#Namspace of instance emp_1\n",
    "print(emp_2.__dict__) # annual raise cannot be found here"
   ]
  },
  {
   "cell_type": "markdown",
   "metadata": {},
   "source": [
    "In this case, it kind of okay to use `self` in the method `new_salary()` as it would be good to have the flexibility to change the annual raise specific to the emplyee instance. Something like employee count is an example wehere it wou;dn't really make sense to use `self`"
   ]
  },
  {
   "cell_type": "code",
   "execution_count": 83,
   "metadata": {},
   "outputs": [
    {
     "name": "stdout",
     "output_type": "stream",
     "text": [
      "1\n",
      "2\n"
     ]
    }
   ],
   "source": [
    "#class for employees\n",
    "class Employee:\n",
    "    \n",
    "    num_employees=0\n",
    "    annual_raise=1.04 #annual percent raise in salary\n",
    "    \n",
    "    def __init__(self,first,last,pay): #initializer or constructor\n",
    "        #attributes / instance variables\n",
    "        self.first=first\n",
    "        self.last=last\n",
    "        self.pay=pay\n",
    "        self.email=first+'.'+last+'@company.com'\n",
    "        Employee.num_employees+=1 #adding 1 whenver a new instance is created\n",
    "    \n",
    "    def per_week_salary(self):#method for calculating weekly pay\n",
    "        return self.pay/52\n",
    "    \n",
    "    def new_salary(self):\n",
    "        self.pay=self.pay*self.annual_raise #self.annual_raise can also be used\n",
    "        \n",
    "emp_1=Employee(\"T\",\"Rex\",30000)\n",
    "print(Employee.num_employees)\n",
    "emp_2=Employee(\"Dinosaur\",\"Boss\",35000)\n",
    "print(Employee.num_employees)"
   ]
  },
  {
   "cell_type": "markdown",
   "metadata": {
    "collapsed": true
   },
   "source": [
    "## Methods\n",
    "\n",
    "Regular methods in a class by default take the instance of the class(`self`) as the first argument. Such as the `per_week_salary` defined previously\n",
    "\n",
    "* Class methods - Methods that take the class automatically as the first argument\n",
    "* Static methods -  Methods that do not depend upon the class or any instance, can defined without these as input parameters\n",
    "\n",
    "Say for instance, your organization has data of all the employees in the form of a string separated by hyphens and they want to use our `Employee` class. We would definitely want a method that could split the string into first name, last name and pay and intiate our class instances.For a task like this, we'll create a class method.\n",
    "\n",
    "In case we want to find out if a particular day in a claender year is a working day or not. We can write a static method i.e., it doesn't require the class or the instance as a default argument."
   ]
  },
  {
   "cell_type": "code",
   "execution_count": 84,
   "metadata": {},
   "outputs": [
    {
     "name": "stdout",
     "output_type": "stream",
     "text": [
      "John\n",
      "Doe\n",
      "45000\n",
      "True\n",
      "False\n"
     ]
    }
   ],
   "source": [
    "import datetime\n",
    "\n",
    "#class for employees\n",
    "class Employee:\n",
    "    \n",
    "    num_employees=0\n",
    "    annual_raise=1.04 #annual percent raise in salary\n",
    "    \n",
    "    def __init__(self,first,last,pay): #initializer or constructor\n",
    "        #attributes / instance variables\n",
    "        self.first=first\n",
    "        self.last=last\n",
    "        self.pay=pay\n",
    "        self.email=first+'.'+last+'@company.com'\n",
    "        Employee.num_employees+=1 #adding 1 whenver a new instance is created\n",
    "    \n",
    "    def per_week_salary(self):#method for calculating weekly pay\n",
    "        return self.pay/52\n",
    "    \n",
    "    def new_salary(self):\n",
    "        self.pay=self.pay*self.annual_raise\n",
    "    \n",
    "    @classmethod #Decorator, alters the functionality of the method to take the class a the first argument\n",
    "    def from_string(cls,emp_str):#cls is the common convention for class variable name\n",
    "        first, last, pay =emp_str.split(\"-\")\n",
    "        return cls(first,last,pay)\n",
    "    \n",
    "    @staticmethod #Decorator \n",
    "    def is_weekday(day):\n",
    "        if day.weekday()==5 or day.weekday()==6:#condition for saturday or sunday\n",
    "            return False\n",
    "        return True\n",
    "\n",
    "emp_new_str=\"John-Doe-45000\"\n",
    "emp_3 = Employee.from_string(emp_new_str)\n",
    "\n",
    "print(emp_3.first)\n",
    "print(emp_3.last)\n",
    "print(emp_3.pay)\n",
    "    \n",
    "my_date_1=datetime.date(2018,1,3)\n",
    "my_date_2=datetime.date.today()\n",
    "\n",
    "print(Employee.is_weekday(my_date_1))\n",
    "print(Employee.is_weekday(my_date_2))\n"
   ]
  },
  {
   "cell_type": "markdown",
   "metadata": {
    "collapsed": true
   },
   "source": [
    "## Inheritance\n",
    "\n",
    "As the name suggests, inheritance allows us to inherit attributes and methods from a parent class. This is useful because we can create subclasses and add/overwrite new functionalities without affecting the parent class. We'll continue with the `Employee` class we've used so far and create two subclasses say, developed and managers, that inherit from the `Employee` class .\n",
    "\n",
    "If you look at the output of the `help(Developer)`. You'll see three classes, `Developer`,`Employee`(inherited) and `builtns.object`. Every class in python inherits from the builtins class. We can also see the methods and attributes the `Developer` class inherited from the `Employee` class.\n",
    "\n",
    "For adding a new variable to a sub-class, like `Developer` below, we need to create its own `__init__` method and the assignments of the attributes common to the parent class can be directly done by calling the `__init__` method of the parent class. A couple of ways of doing this has been shown in the codes below.\n",
    "\n",
    "Also, looking at the definition of `Manager` class one might be tempted to ask, why can't we directly initiate the employees argument to an empty list. We don't usually pass a mutable datatype like a list or a dictionary as a default argument,dicussion for another topic.\n",
    "\n",
    "`isinstance` and `isclass` come in quite handy while checking inheritance of classes."
   ]
  },
  {
   "cell_type": "code",
   "execution_count": 85,
   "metadata": {},
   "outputs": [
    {
     "name": "stdout",
     "output_type": "stream",
     "text": [
      "John\n",
      "Help on class Developer in module __main__:\n",
      "\n",
      "class Developer(Employee)\n",
      " |  Method resolution order:\n",
      " |      Developer\n",
      " |      Employee\n",
      " |      builtins.object\n",
      " |  \n",
      " |  Methods inherited from Employee:\n",
      " |  \n",
      " |  __init__(self, first, last, pay)\n",
      " |      Initialize self.  See help(type(self)) for accurate signature.\n",
      " |  \n",
      " |  new_salary(self)\n",
      " |  \n",
      " |  per_week_salary(self)\n",
      " |  \n",
      " |  ----------------------------------------------------------------------\n",
      " |  Data descriptors inherited from Employee:\n",
      " |  \n",
      " |  __dict__\n",
      " |      dictionary for instance variables (if defined)\n",
      " |  \n",
      " |  __weakref__\n",
      " |      list of weak references to the object (if defined)\n",
      " |  \n",
      " |  ----------------------------------------------------------------------\n",
      " |  Data and other attributes inherited from Employee:\n",
      " |  \n",
      " |  annual_raise = 1.04\n",
      "\n"
     ]
    }
   ],
   "source": [
    "#Redefine Employe with just first name, last name,email,raise and pay\n",
    "class Employee:\n",
    "    \n",
    "    annual_raise=1.04 #annual percent raise in salary\n",
    "    \n",
    "    def __init__(self,first,last,pay): #initializer or constructor\n",
    "        #attributes / instance variables\n",
    "        self.first=first\n",
    "        self.last=last\n",
    "        self.pay=pay\n",
    "        self.email=first+'.'+last+'@company.com'\n",
    "    \n",
    "    def per_week_salary(self):#method for calculating weekly pay\n",
    "        return self.pay/52\n",
    "    \n",
    "    def new_salary(self):\n",
    "        self.pay=self.pay*Employee.annual_raise #self.annual_raise can also be used\n",
    "        \n",
    "class Developer(Employee):\n",
    "    pass\n",
    "\n",
    "dev_1=Developer('John','Wick',50000)\n",
    "\n",
    "print(dev_1.first)\n",
    "\n",
    "#Check the method resolution order, these are the places where python searches for attributes and methods\n",
    "help(Developer)\n",
    "#first Developer is checked\n",
    "#then the inherited class which in our case in Employee\n",
    "#then builtins.object, every class in python inherits from this base object"
   ]
  },
  {
   "cell_type": "code",
   "execution_count": 86,
   "metadata": {},
   "outputs": [
    {
     "name": "stdout",
     "output_type": "stream",
     "text": [
      "50000\n",
      "52000.0\n",
      "52000.0\n",
      "54080.0\n"
     ]
    }
   ],
   "source": [
    "#Customizing subclasses\n",
    "print(dev_1.pay)\n",
    "dev_1.new_salary()\n",
    "print(dev_1.pay)\n",
    "\n",
    "#redefine with a new annual raise for developer class\n",
    "class Developer(Employee):\n",
    "    annual_raise=1.1#this change will only affect the subclass\n",
    "    \n",
    "#check salaries again after a raise\n",
    "print(dev_1.pay)\n",
    "dev_1.new_salary()\n",
    "print(dev_1.pay)"
   ]
  },
  {
   "cell_type": "code",
   "execution_count": 87,
   "metadata": {},
   "outputs": [
    {
     "name": "stdout",
     "output_type": "stream",
     "text": [
      "python\n"
     ]
    }
   ],
   "source": [
    "#More customization\n",
    "#Adding additional inputs\n",
    "class Developer(Employee):\n",
    "    \n",
    "    def __init__(self,first,last,pay,prog_lang):\n",
    "        #shortcut for copying the assignments from the parent class's init  method\n",
    "        super().__init__(first,last,pay)\n",
    "        #alternative way\n",
    "        #Employee.__init__(self,first,last,pay) \n",
    "        self.prog_lang=prog_lang\n",
    "dev_1=Developer('John','Wick',50000,'python')\n",
    "print(dev_1.prog_lang)"
   ]
  },
  {
   "cell_type": "code",
   "execution_count": 88,
   "metadata": {},
   "outputs": [
    {
     "name": "stdout",
     "output_type": "stream",
     "text": [
      "Jason.King@company.com\n",
      "--> John Wick\n",
      "--> John Wick\n",
      "--> Lucius Fox\n"
     ]
    }
   ],
   "source": [
    "#new class Manager\n",
    "\n",
    "class Manager(Employee):\n",
    "    \n",
    "    def __init__(self,first,last,pay,employees=None):\n",
    "        super().__init__(first,last,pay)\n",
    "        if employees is None:\n",
    "            self.employees=[]\n",
    "        else:\n",
    "            self.employees=employees\n",
    "    \n",
    "    #method for adding an employee under a manager\n",
    "    def add_employee(self,emp):\n",
    "        if emp not in self.employees:\n",
    "            self.employees.append(emp)\n",
    "    \n",
    "    #method for removing an employee\n",
    "    def remove_emp(self,employee):\n",
    "        if emp in self.employees:\n",
    "            self.employees.remove(emp)\n",
    "            \n",
    "    #method for prinint all the employees under a manager\n",
    "    def list_employees(self):\n",
    "        for emp in self.employees:\n",
    "            print('-->'+' '+emp.first+' '+emp.last)\n",
    "\n",
    "mgr_1=Manager('Jason','King',50000,[dev_1])\n",
    "print(mgr_1.email)\n",
    "mgr_1.list_employees()\n",
    "dev_2=Developer('Lucius','Fox',60000,'Java')\n",
    "mgr_1.add_employee(dev_2)\n",
    "mgr_1.list_employees()"
   ]
  },
  {
   "cell_type": "code",
   "execution_count": 89,
   "metadata": {},
   "outputs": [
    {
     "name": "stdout",
     "output_type": "stream",
     "text": [
      "True\n",
      "False\n",
      "True\n",
      "True\n",
      "False\n"
     ]
    }
   ],
   "source": [
    "#issubclass,isinsstance\n",
    "print(issubclass(Manager,Employee))#True\n",
    "print(issubclass(Manager,Developer))#False\n",
    "print(isinstance(mgr_1,Manager))#True\n",
    "print(isinstance(mgr_1,Employee))#True\n",
    "print(isinstance(dev_1,Manager))#False"
   ]
  },
  {
   "cell_type": "markdown",
   "metadata": {},
   "source": [
    "## Special methods/ Magic methods / Dunder methods\n",
    "\n",
    "Special methods help us emulate a built-in python behaviour within a class.  \n",
    "\n",
    "Dunder methods are named in such a way because these methods start and end with two `_`(underscores). One dunder method we've been using all along is the `__init__` method. Other examples are `__repr__`,`__str__`. Upon printing an instance of the class `Employee` say `emp_1` to the console. We get a vague message which is not really understandable neither to the developer nor the end-user.\n",
    "\n",
    "`__repr__` is meant to be an unambiguous representation of the object and should be used for debugging and logging etc., kind of used by the developer. Whereas, the `__str__` is supposed to be a readable represntation of the object, mainly intended for the end user. First the `__str__` method is used whenever `print` is used on an instance of a class. If `__str__` isn't defined, `__repr__` is called. If neither of them are present, we are going to get the vague output we are getting now."
   ]
  },
  {
   "cell_type": "code",
   "execution_count": 90,
   "metadata": {},
   "outputs": [
    {
     "name": "stdout",
     "output_type": "stream",
     "text": [
      "John Cena - John.Cena@company.com\n",
      "Employee('John','Cena',130000)\n",
      "John Cena - John.Cena@company.com\n"
     ]
    }
   ],
   "source": [
    "#Employee class\n",
    "class Employee:\n",
    "    \n",
    "    annual_raise=1.04 #annual percent raise in salary\n",
    "    \n",
    "    def __init__(self,first,last,pay): #initializer or constructor\n",
    "        #attributes / instance variables\n",
    "        self.first=first\n",
    "        self.last=last\n",
    "        self.pay=pay\n",
    "        self.email=first+'.'+last+'@company.com'\n",
    "    \n",
    "    def full_name(self):#fullname\n",
    "        return '{} {}'.format(self.first,self.last)\n",
    "    \n",
    "    def new_salary(self):\n",
    "        self.pay=self.pay*Employee.annual_raise #self.annual_raise can also be used\n",
    "    \n",
    "    def __repr__(self):#printing output in the same fashion in which an instance is defined\n",
    "        return \"Employee('{}','{}',{})\".format(self.first,self.last,self.pay)\n",
    "        \n",
    "    def __str__(self):\n",
    "        return \"{} - {}\".format(self.full_name(),self.email)\n",
    "    \n",
    "emp_1=Employee('John','Cena',130000)\n",
    "\n",
    "print(emp_1)#prints the __str__ by default\n",
    "print(repr(emp_1))#equivalent to emp_1.__repr__()\n",
    "print(str(emp_1))#equivalent to emp_1.__str__()"
   ]
  },
  {
   "cell_type": "markdown",
   "metadata": {},
   "source": [
    "There are also a lot of special methods for arithmetic, such as `__add__`. Look at the example below. What `print(1+2)` and `print('a'+'b')` actually do is call the integer and string classes' dunder methods `__add__`"
   ]
  },
  {
   "cell_type": "code",
   "execution_count": 91,
   "metadata": {},
   "outputs": [
    {
     "name": "stdout",
     "output_type": "stream",
     "text": [
      "3\n",
      "ab\n",
      "3\n",
      "ab\n"
     ]
    }
   ],
   "source": [
    "print(1+2)\n",
    "print('a'+'b')\n",
    "print(int.__add__(1,2))\n",
    "print(str.__add__('a','b'))"
   ]
  },
  {
   "cell_type": "markdown",
   "metadata": {},
   "source": [
    "In a similar way, say if we want to get the combined salaries to two emplyees by just adding the two employee objects. Then we'll have to create a new  `__add__` dunder method in `Employee` class."
   ]
  },
  {
   "cell_type": "code",
   "execution_count": 92,
   "metadata": {},
   "outputs": [
    {
     "name": "stdout",
     "output_type": "stream",
     "text": [
      "280000\n"
     ]
    }
   ],
   "source": [
    "#Employee class\n",
    "class Employee:\n",
    "    \n",
    "    annual_raise=1.04 #annual percent raise in salary\n",
    "    \n",
    "    def __init__(self,first,last,pay): #initializer or constructor\n",
    "        #attributes / instance variables\n",
    "        self.first=first\n",
    "        self.last=last\n",
    "        self.pay=pay\n",
    "        self.email=first+'.'+last+'@company.com'\n",
    "    \n",
    "    def full_name(self):#fullname\n",
    "        return '{} {}'.format(self.first,self.last)\n",
    "    \n",
    "    def new_salary(self):\n",
    "        self.pay=self.pay*Employee.annual_raise #self.annual_raise can also be used\n",
    "    \n",
    "    def __repr__(self):#printing output in the same fashion in which an instance is defined\n",
    "        return \"Employee('{}','{}',{})\".format(self.first,self.last,self.pay)\n",
    "        \n",
    "    def __str__(self):\n",
    "        return \"{} - {}\".format(self.full_name(),self.email)\n",
    "    \n",
    "    def __add__(self,other):\n",
    "        return self.pay+other.pay\n",
    "    \n",
    "emp_1=Employee('John','Cena',130000)\n",
    "emp_2=Employee('Randy','Orton',150000)\n",
    "print(emp_1+emp_2)#initiates the dunder method __add__"
   ]
  },
  {
   "cell_type": "markdown",
   "metadata": {},
   "source": [
    "## Property decorators- Getters, Setters and Deleters\n",
    "\n",
    "In the employee class we've been using till now, `email` is an attribute that is getting calculated in the `__init__` method. If we change manually change the attribute `first` of an object `emp_1` after defining the instance, the `email` attribute would still remain the same as before i.e, it would still contain the old first name. But this isn't the case with `full_name` as it is a method not an attribute.\n",
    "\n",
    "You must be thinking, why not define a method for email? If we do that, it is going to be a problem while accessing the emails of objects already defined. They will have to change the email from attribute to a method everywhere it is used. This is where we use property decorators to handle such scenarios. As you can see in the example below, without having to adjust the code from attributes to methods for instances already defined. We can still use `email` as an attribute."
   ]
  },
  {
   "cell_type": "code",
   "execution_count": 93,
   "metadata": {},
   "outputs": [
    {
     "name": "stdout",
     "output_type": "stream",
     "text": [
      "John.Cena@company.com\n",
      "John.Cena@company.com\n"
     ]
    }
   ],
   "source": [
    "# Employee class\n",
    "class Employee:\n",
    "    \n",
    "    def __init__(self,first,last): #initializer or constructor\n",
    "        #attributes / instance variables\n",
    "        self.first=first\n",
    "        self.last=last\n",
    "        self.email=first+'.'+last+'@company.com'\n",
    "    \n",
    "    def full_name(self):#fullname\n",
    "        return '{} {}'.format(self.first,self.last)\n",
    "\n",
    "emp_1=Employee('John','Cena')\n",
    "print(emp_1.email)\n",
    "emp_1.first='Randy'#change first name\n",
    "print(emp_1.email)#still the same"
   ]
  },
  {
   "cell_type": "code",
   "execution_count": 94,
   "metadata": {},
   "outputs": [
    {
     "name": "stdout",
     "output_type": "stream",
     "text": [
      "John.Cena@company.com\n",
      "Randy.Cena@company.com\n"
     ]
    }
   ],
   "source": [
    "# Employee class\n",
    "class Employee:\n",
    "    \n",
    "    def __init__(self,first,last): #initializer or constructor\n",
    "        #attributes / instance variables\n",
    "        self.first=first\n",
    "        self.last=last\n",
    "    \n",
    "    @property\n",
    "    def email(self):\n",
    "        return '{}.{}@company.com'.format(self.first,self.last)\n",
    "    \n",
    "    def full_name(self):#fullname\n",
    "        return '{} {}'.format(self.first,self.last)\n",
    "\n",
    "emp_1=Employee('John','Cena')\n",
    "print(emp_1.email)\n",
    "emp_1.first='Randy'#change first name\n",
    "print(emp_1.email)#changes "
   ]
  },
  {
   "cell_type": "markdown",
   "metadata": {},
   "source": [
    "However, if we try adding a `@property` decorator for `full_name` and try changing it by a manual assignment, we'll get an error. In addition to the `@proprty` decorator, we'll also need to use a `setter` to change the `first` and `last` attributes.\n",
    "We can also make a `deleter` in the same way, to perform some clean up or something."
   ]
  },
  {
   "cell_type": "code",
   "execution_count": 95,
   "metadata": {},
   "outputs": [
    {
     "name": "stdout",
     "output_type": "stream",
     "text": [
      "Big\n",
      "Big.Show@company.com\n",
      "Big Show\n",
      "Deleting stuff!\n",
      "None\n",
      "None.None@company.com\n",
      "None None\n"
     ]
    }
   ],
   "source": [
    "# Employee class\n",
    "class Employee:\n",
    "    \n",
    "    def __init__(self,first,last): #initializer or constructor\n",
    "        #attributes / instance variables\n",
    "        self.first=first\n",
    "        self.last=last\n",
    "    \n",
    "    @property\n",
    "    def email(self):\n",
    "        return '{}.{}@company.com'.format(self.first,self.last)\n",
    "    \n",
    "    @property\n",
    "    def full_name(self):#fullname\n",
    "        return '{} {}'.format(self.first,self.last)\n",
    "    \n",
    "    @full_name.setter\n",
    "    def full_name(self,name):\n",
    "        first,last=name.split(' ')\n",
    "        self.first=first\n",
    "        self.last=last\n",
    "    \n",
    "    @full_name.deleter\n",
    "    def full_name(self):\n",
    "        self.first=None\n",
    "        self.last=None\n",
    "        print('Deleting stuff!')\n",
    "\n",
    "\n",
    "emp_1=Employee('John','Cena')\n",
    "emp_1.full_name='Big Show'\n",
    "print(emp_1.first)\n",
    "print(emp_1.email)\n",
    "print(emp_1.full_name)\n",
    "\n",
    "del(emp_1.full_name)\n",
    "print(emp_1.first)\n",
    "print(emp_1.email)\n",
    "print(emp_1.full_name)"
   ]
  },
  {
   "cell_type": "code",
   "execution_count": null,
   "metadata": {
    "collapsed": true
   },
   "outputs": [],
   "source": []
  }
 ],
 "metadata": {
  "kernelspec": {
   "display_name": "Python 3",
   "language": "python",
   "name": "python3"
  },
  "language_info": {
   "codemirror_mode": {
    "name": "ipython",
    "version": 3
   },
   "file_extension": ".py",
   "mimetype": "text/x-python",
   "name": "python",
   "nbconvert_exporter": "python",
   "pygments_lexer": "ipython3",
   "version": "3.6.3"
  }
 },
 "nbformat": 4,
 "nbformat_minor": 2
}
