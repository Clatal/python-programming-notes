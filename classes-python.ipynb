{
 "cells": [
  {
   "cell_type": "markdown",
   "metadata": {},
   "source": [
    "### Classes\n",
    "\n",
    "Why should we use classes? It allows us to logically group our data (** attributes**) and functions(**methods**) in a way that is easy to reuse and also build upon if need be. \n",
    "\n",
    "Assinging a class to a variable will create an **instance** of the class. A class is basically a blueprint for creating instances."
   ]
  },
  {
   "cell_type": "code",
   "execution_count": 1,
   "metadata": {},
   "outputs": [
    {
     "name": "stdout",
     "output_type": "stream",
     "text": [
      "Rex.Vijayan@company.com\n",
      "Vijayan\n",
      "1730.7692307692307\n",
      "1730.7692307692307\n"
     ]
    }
   ],
   "source": [
    "#class for employees\n",
    "class Employee:\n",
    "    \n",
    "    def __init__(self,first,last,pay): #initializer or constructor\n",
    "        #attributes / instance variables\n",
    "        self.first=first\n",
    "        self.last=last\n",
    "        self.pay=pay\n",
    "        self.email=first+'.'+last+'@company.com'\n",
    "    \n",
    "    def per_week_salary(self):#method for calculating weekly pay\n",
    "        return self.pay/52\n",
    "            \n",
    "#emp_1 is an instance of the class Employee        \n",
    "emp_1 = Employee(\"Rex\",\"Vijayan\",90000)#self is passes automatically\n",
    "print(emp_1.email)\n",
    "print(emp_1.last)\n",
    "print(emp_1.per_week_salary()) #parathesis are required because this is a method not an attribute\n",
    "\n",
    "#Methods can be called directly from the class itself, but the instance needs to be passed as a parameter\n",
    "print(Employee.per_week_salary(emp_1))"
   ]
  },
  {
   "cell_type": "markdown",
   "metadata": {},
   "source": [
    "* Class variables - Variables that are shared among all instances of the class\n",
    "* Instance variables - Specific to each instance of the class like first name or last name  \n",
    "Let's build upon the *Employee* class definition and explore these topics"
   ]
  },
  {
   "cell_type": "code",
   "execution_count": 2,
   "metadata": {},
   "outputs": [
    {
     "name": "stdout",
     "output_type": "stream",
     "text": [
      "30000\n",
      "31200.0\n",
      "1.04\n",
      "1.04\n",
      "{'__module__': '__main__', 'annual_raise': 1.04, '__init__': <function Employee.__init__ at 0x7f4b88367b70>, 'per_week_salary': <function Employee.per_week_salary at 0x7f4b88367d90>, 'new_salary': <function Employee.new_salary at 0x7f4b88367c80>, '__dict__': <attribute '__dict__' of 'Employee' objects>, '__weakref__': <attribute '__weakref__' of 'Employee' objects>, '__doc__': None}\n",
      "{'first': 'T', 'last': 'Rex', 'pay': 31200.0, 'email': 'T.Rex@company.com'}\n"
     ]
    }
   ],
   "source": [
    "#class for employees\n",
    "class Employee:\n",
    "    \n",
    "    annual_raise=1.04 #annual percent raise in salary\n",
    "    \n",
    "    def __init__(self,first,last,pay): #initializer or constructor\n",
    "        #attributes / instance variables\n",
    "        self.first=first\n",
    "        self.last=last\n",
    "        self.pay=pay\n",
    "        self.email=first+'.'+last+'@company.com'\n",
    "    \n",
    "    def per_week_salary(self):#method for calculating weekly pay\n",
    "        return self.pay/52\n",
    "    \n",
    "    def new_salary(self):\n",
    "        self.pay=self.pay*Employee.annual_raise #self.annual_raise can also be used\n",
    "    \n",
    "emp_1=Employee(\"T\",\"Rex\",30000)\n",
    "emp_2=Employee(\"Dinosaur\",\"Boss\",35000)\n",
    "\n",
    "print(emp_1.pay)#old salary\n",
    "emp_1.new_salary()#apply annual raise\n",
    "print(emp_1.pay)#new salary\n",
    "\n",
    "print(Employee.annual_raise)\n",
    "print(emp_1.annual_raise) \n",
    "# this will also fetch the same raise amount, however it doesn't have the attribute itself\n",
    "#it is just accesssing the class's attribute raise amount\n",
    "\n",
    "#Namespace class Employee\n",
    "print(Employee.__dict__) #annual_raise can be found here\n",
    "#Namspace of instance emp_1\n",
    "print(emp_1.__dict__) # annual raise cannot be found here"
   ]
  },
  {
   "cell_type": "markdown",
   "metadata": {},
   "source": [
    "\n",
    "Note that using  `self.annual_raise` in the `new_salary` method would have also provided the same output. However, if `annual_raise` attribute is assigned separately to an instance of the class (say `emp_1`). Whenever `new_salary()` method is called, the instance's attribute `annual_raise` would be used instead of the class's  "
   ]
  },
  {
   "cell_type": "code",
   "execution_count": 3,
   "metadata": {},
   "outputs": [
    {
     "name": "stdout",
     "output_type": "stream",
     "text": [
      "35000\n",
      "36750.0\n",
      "1.04\n",
      "1.05\n",
      "1.04\n",
      "{'__module__': '__main__', 'annual_raise': 1.04, '__init__': <function Employee.__init__ at 0x7f4b88367510>, 'per_week_salary': <function Employee.per_week_salary at 0x7f4b883670d0>, 'new_salary': <function Employee.new_salary at 0x7f4b88367378>, '__dict__': <attribute '__dict__' of 'Employee' objects>, '__weakref__': <attribute '__weakref__' of 'Employee' objects>, '__doc__': None}\n",
      "{'first': 'Dinosaur', 'last': 'Boss', 'pay': 36750.0, 'email': 'Dinosaur.Boss@company.com', 'annual_raise': 1.05}\n"
     ]
    }
   ],
   "source": [
    "#class for employees\n",
    "class Employee:\n",
    "    \n",
    "    annual_raise=1.04 #annual percent raise in salary\n",
    "    \n",
    "    def __init__(self,first,last,pay): #initializer or constructor\n",
    "        #attributes / instance variables\n",
    "        self.first=first\n",
    "        self.last=last\n",
    "        self.pay=pay\n",
    "        self.email=first+'.'+last+'@company.com'\n",
    "    \n",
    "    def per_week_salary(self):#method for calculating weekly pay\n",
    "        return self.pay/52\n",
    "    \n",
    "    def new_salary(self):\n",
    "        self.pay=self.pay*self.annual_raise #self.annual_raise can also be used\n",
    "    \n",
    "emp_1=Employee(\"T\",\"Rex\",30000)\n",
    "emp_2=Employee(\"Dinosaur\",\"Boss\",35000)\n",
    "\n",
    "emp_2.annual_raise=1.05\n",
    "\n",
    "print(emp_2.pay)#old salary\n",
    "emp_2.new_salary()#apply annual raise\n",
    "print(emp_2.pay)#new salary\n",
    "\n",
    "print(Employee.annual_raise)\n",
    "print(emp_2.annual_raise) \n",
    "print(emp_1.annual_raise)\n",
    "\n",
    "#Namespace class Employee\n",
    "print(Employee.__dict__) #annual_raise can be found here\n",
    "#Namspace of instance emp_1\n",
    "print(emp_2.__dict__) # annual raise cannot be found here"
   ]
  },
  {
   "cell_type": "markdown",
   "metadata": {},
   "source": [
    "In this case, it kind of okay to use `self` in the method `new_salary()` as it would be good to have the flexibility to change the annual raise specific to the emplyee instance. Something like employee count is an example wehere it wou;dn't really make sense to use `self`"
   ]
  },
  {
   "cell_type": "code",
   "execution_count": 4,
   "metadata": {},
   "outputs": [
    {
     "name": "stdout",
     "output_type": "stream",
     "text": [
      "1\n",
      "2\n"
     ]
    }
   ],
   "source": [
    "#class for employees\n",
    "class Employee:\n",
    "    \n",
    "    num_employees=0\n",
    "    annual_raise=1.04 #annual percent raise in salary\n",
    "    \n",
    "    def __init__(self,first,last,pay): #initializer or constructor\n",
    "        #attributes / instance variables\n",
    "        self.first=first\n",
    "        self.last=last\n",
    "        self.pay=pay\n",
    "        self.email=first+'.'+last+'@company.com'\n",
    "        Employee.num_employees+=1 #adding 1 whenver a new instance is created\n",
    "    \n",
    "    def per_week_salary(self):#method for calculating weekly pay\n",
    "        return self.pay/52\n",
    "    \n",
    "    def new_salary(self):\n",
    "        self.pay=self.pay*self.annual_raise #self.annual_raise can also be used\n",
    "        \n",
    "emp_1=Employee(\"T\",\"Rex\",30000)\n",
    "print(Employee.num_employees)\n",
    "emp_2=Employee(\"Dinosaur\",\"Boss\",35000)\n",
    "print(Employee.num_employees)"
   ]
  },
  {
   "cell_type": "markdown",
   "metadata": {
    "collapsed": true
   },
   "source": [
    "### Methods\n",
    "\n",
    "Regular methods in a class by default take the instance of the class(`self`) as the first argument. Such as the `per_week_salary` defined previously\n",
    "\n",
    "* Class methods - Methods that take the class automatically as the first argument\n",
    "* Static methods -  Methods that do not depend upon the class or any instance, can defined without these as input parameters\n",
    "\n",
    "Say for instance, your organization has data of all the employees in the form of a string separated by hyphens and they want to use our `Employee` class. We would definitely want a method that could split the string into first name, last name and pay and intiate our class instances.For a task like this, we'll create a class method.\n",
    "\n",
    "In case we want to find out if a particular day in a claender year is a working day or not. We can write a static method i.e., it doesn't require the class or the instance as a default argument."
   ]
  },
  {
   "cell_type": "code",
   "execution_count": 9,
   "metadata": {},
   "outputs": [
    {
     "name": "stdout",
     "output_type": "stream",
     "text": [
      "John\n",
      "Doe\n",
      "45000\n",
      "True\n",
      "False\n"
     ]
    }
   ],
   "source": [
    "import datetime\n",
    "\n",
    "#class for employees\n",
    "class Employee:\n",
    "    \n",
    "    num_employees=0\n",
    "    annual_raise=1.04 #annual percent raise in salary\n",
    "    \n",
    "    def __init__(self,first,last,pay): #initializer or constructor\n",
    "        #attributes / instance variables\n",
    "        self.first=first\n",
    "        self.last=last\n",
    "        self.pay=pay\n",
    "        self.email=first+'.'+last+'@company.com'\n",
    "        Employee.num_employees+=1 #adding 1 whenver a new instance is created\n",
    "    \n",
    "    def per_week_salary(self):#method for calculating weekly pay\n",
    "        return self.pay/52\n",
    "    \n",
    "    def new_salary(self):\n",
    "        self.pay=self.pay*self.annual_raise\n",
    "    \n",
    "    @classmethod #Decorator, alters the functionality of the method to take the class a the first argument\n",
    "    def from_string(cls,emp_str):#cls is the common convention for class variable name\n",
    "        first, last, pay =emp_str.split(\"-\")\n",
    "        return cls(first,last,pay)\n",
    "    \n",
    "    @staticmethod #Decorator \n",
    "    def is_weekday(day):\n",
    "        if day.weekday()==5 or day.weekday()==6:#condition for saturday or sunday\n",
    "            return False\n",
    "        return True\n",
    "\n",
    "emp_new_str=\"John-Doe-45000\"\n",
    "emp_3 = Employee.from_string(emp_new_str)\n",
    "\n",
    "print(emp_3.first)\n",
    "print(emp_3.last)\n",
    "print(emp_3.pay)\n",
    "    \n",
    "my_date_1=datetime.date(2018,1,3)\n",
    "my_date_2=datetime.date.today()\n",
    "\n",
    "print(Employee.is_weekday(my_date_1))\n",
    "print(Employee.is_weekday(my_date_2))\n"
   ]
  },
  {
   "cell_type": "code",
   "execution_count": null,
   "metadata": {
    "collapsed": true
   },
   "outputs": [],
   "source": []
  }
 ],
 "metadata": {
  "kernelspec": {
   "display_name": "Python 3",
   "language": "python",
   "name": "python3"
  },
  "language_info": {
   "codemirror_mode": {
    "name": "ipython",
    "version": 3
   },
   "file_extension": ".py",
   "mimetype": "text/x-python",
   "name": "python",
   "nbconvert_exporter": "python",
   "pygments_lexer": "ipython3",
   "version": "3.6.3"
  }
 },
 "nbformat": 4,
 "nbformat_minor": 2
}
