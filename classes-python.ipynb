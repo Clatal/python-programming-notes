{
 "cells": [
  {
   "cell_type": "markdown",
   "metadata": {},
   "source": [
    "### Classes\n",
    "\n",
    "Why should we use classes? It allows us to logically group our data (** attributes**) and functions(**methods**) in a way that is easy to reuse and also build upon if need be. \n",
    "\n",
    "Assinging a class to a variable will create an **instance** of the class. A class is basically a blueprint for creating instances."
   ]
  },
  {
   "cell_type": "code",
   "execution_count": 28,
   "metadata": {},
   "outputs": [
    {
     "name": "stdout",
     "output_type": "stream",
     "text": [
      "Rex.Vijayan@company.com\n",
      "Vijayan\n",
      "1730.7692307692307\n",
      "1730.7692307692307\n"
     ]
    }
   ],
   "source": [
    "#class for employees\n",
    "class Employee:\n",
    "    \n",
    "    def __init__(self,first,last,pay): #initializer or constructor\n",
    "        #attributes / instance variables\n",
    "        self.first=first\n",
    "        self.last=last\n",
    "        self.pay=pay\n",
    "        self.email=first+'.'+last+'@company.com'\n",
    "    \n",
    "    def per_week_salary(self):#method for calculating weekly pay\n",
    "        return self.pay/52\n",
    "            \n",
    "#emp_1 is an instance of the class Employee        \n",
    "emp_1 = Employee(\"Rex\",\"Vijayan\",90000)#self is passes automatically\n",
    "print(emp_1.email)\n",
    "print(emp_1.last)\n",
    "print(emp_1.per_week_salary()) #parathesis are required because this is a method not an attribute\n",
    "\n",
    "#Methods can be called directly from the class itself, but the instance needs to be passed as a parameter\n",
    "print(Employee.per_week_salary(emp_1))"
   ]
  },
  {
   "cell_type": "markdown",
   "metadata": {},
   "source": [
    "* Class variables - Variables that are shared among all instances of the class\n",
    "* Instance variables - Specific to each instance of the class like first name or last name  \n",
    "Let's build upon the *Employee* class definition and explore these topics"
   ]
  },
  {
   "cell_type": "code",
   "execution_count": 29,
   "metadata": {},
   "outputs": [
    {
     "name": "stdout",
     "output_type": "stream",
     "text": [
      "30000\n",
      "31200.0\n",
      "1.04\n",
      "1.04\n",
      "{'__module__': '__main__', 'annual_raise': 1.04, '__init__': <function Employee.__init__ at 0x7f9fec8111e0>, 'per_week_salary': <function Employee.per_week_salary at 0x7f9fec80d6a8>, 'new_salary': <function Employee.new_salary at 0x7f9fec80d8c8>, '__dict__': <attribute '__dict__' of 'Employee' objects>, '__weakref__': <attribute '__weakref__' of 'Employee' objects>, '__doc__': None}\n",
      "{'first': 'T', 'last': 'Rex', 'pay': 31200.0, 'email': 'T.Rex@company.com'}\n"
     ]
    }
   ],
   "source": [
    "#class for employees\n",
    "class Employee:\n",
    "    \n",
    "    annual_raise=1.04 #annual percent raise in salary\n",
    "    \n",
    "    def __init__(self,first,last,pay): #initializer or constructor\n",
    "        #attributes / instance variables\n",
    "        self.first=first\n",
    "        self.last=last\n",
    "        self.pay=pay\n",
    "        self.email=first+'.'+last+'@company.com'\n",
    "    \n",
    "    def per_week_salary(self):#method for calculating weekly pay\n",
    "        return self.pay/52\n",
    "    \n",
    "    def new_salary(self):\n",
    "        self.pay=self.pay*Employee.annual_raise #self.annual_raise can also be used\n",
    "    \n",
    "emp_1=Employee(\"T\",\"Rex\",30000)\n",
    "emp_2=Employee(\"Dinosaur\",\"Boss\",35000)\n",
    "\n",
    "print(emp_1.pay)#old salary\n",
    "emp_1.new_salary()#apply annual raise\n",
    "print(emp_1.pay)#new salary\n",
    "\n",
    "print(Employee.annual_raise)\n",
    "print(emp_1.annual_raise) \n",
    "# this will also fetch the same raise amount, however it doesn't have the attribute itself\n",
    "#it is just accesssing the class's attribute raise amount\n",
    "\n",
    "#Namespace class Employee\n",
    "print(Employee.__dict__) #annual_raise can be found here\n",
    "#Namspace of instance emp_1\n",
    "print(emp_1.__dict__) # annual raise cannot be found here"
   ]
  },
  {
   "cell_type": "markdown",
   "metadata": {},
   "source": [
    "\n",
    "Note that using  `self.annual_raise` in the `new_salary` method would have also provided the same output. However, if `annual_raise` attribute is assigned separately to an instance of the class (say `emp_1`). Whenever `new_salary()` method is called, the instance's attribute `annual_raise` would be used instead of the class's  "
   ]
  },
  {
   "cell_type": "code",
   "execution_count": 30,
   "metadata": {},
   "outputs": [
    {
     "name": "stdout",
     "output_type": "stream",
     "text": [
      "35000\n",
      "36750.0\n",
      "1.04\n",
      "1.05\n",
      "1.04\n",
      "{'__module__': '__main__', 'annual_raise': 1.04, '__init__': <function Employee.__init__ at 0x7f9fec7ce6a8>, 'per_week_salary': <function Employee.per_week_salary at 0x7f9fec7ce7b8>, 'new_salary': <function Employee.new_salary at 0x7f9fec7ce950>, '__dict__': <attribute '__dict__' of 'Employee' objects>, '__weakref__': <attribute '__weakref__' of 'Employee' objects>, '__doc__': None}\n",
      "{'first': 'Dinosaur', 'last': 'Boss', 'pay': 36750.0, 'email': 'Dinosaur.Boss@company.com', 'annual_raise': 1.05}\n"
     ]
    }
   ],
   "source": [
    "#class for employees\n",
    "class Employee:\n",
    "    \n",
    "    annual_raise=1.04 #annual percent raise in salary\n",
    "    \n",
    "    def __init__(self,first,last,pay): #initializer or constructor\n",
    "        #attributes / instance variables\n",
    "        self.first=first\n",
    "        self.last=last\n",
    "        self.pay=pay\n",
    "        self.email=first+'.'+last+'@company.com'\n",
    "    \n",
    "    def per_week_salary(self):#method for calculating weekly pay\n",
    "        return self.pay/52\n",
    "    \n",
    "    def new_salary(self):\n",
    "        self.pay=self.pay*self.annual_raise #self.annual_raise can also be used\n",
    "    \n",
    "emp_1=Employee(\"T\",\"Rex\",30000)\n",
    "emp_2=Employee(\"Dinosaur\",\"Boss\",35000)\n",
    "\n",
    "emp_2.annual_raise=1.05\n",
    "\n",
    "print(emp_2.pay)#old salary\n",
    "emp_2.new_salary()#apply annual raise\n",
    "print(emp_2.pay)#new salary\n",
    "\n",
    "print(Employee.annual_raise)\n",
    "print(emp_2.annual_raise) \n",
    "print(emp_1.annual_raise)\n",
    "\n",
    "#Namespace class Employee\n",
    "print(Employee.__dict__) #annual_raise can be found here\n",
    "#Namspace of instance emp_1\n",
    "print(emp_2.__dict__) # annual raise cannot be found here"
   ]
  },
  {
   "cell_type": "markdown",
   "metadata": {},
   "source": [
    "In this case, it kind of okay to use `self` in the method `new_salary()` as it would be good to have the flexibility to change the annual raise specific to the emplyee instance. Something like employee count is an example wehere it wou;dn't really make sense to use `self`"
   ]
  },
  {
   "cell_type": "code",
   "execution_count": 31,
   "metadata": {},
   "outputs": [
    {
     "name": "stdout",
     "output_type": "stream",
     "text": [
      "1\n",
      "2\n"
     ]
    }
   ],
   "source": [
    "#class for employees\n",
    "class Employee:\n",
    "    \n",
    "    num_employees=0\n",
    "    annual_raise=1.04 #annual percent raise in salary\n",
    "    \n",
    "    def __init__(self,first,last,pay): #initializer or constructor\n",
    "        #attributes / instance variables\n",
    "        self.first=first\n",
    "        self.last=last\n",
    "        self.pay=pay\n",
    "        self.email=first+'.'+last+'@company.com'\n",
    "        Employee.num_employees+=1 #adding 1 whenver a new instance is created\n",
    "    \n",
    "    def per_week_salary(self):#method for calculating weekly pay\n",
    "        return self.pay/52\n",
    "    \n",
    "    def new_salary(self):\n",
    "        self.pay=self.pay*self.annual_raise #self.annual_raise can also be used\n",
    "        \n",
    "emp_1=Employee(\"T\",\"Rex\",30000)\n",
    "print(Employee.num_employees)\n",
    "emp_2=Employee(\"Dinosaur\",\"Boss\",35000)\n",
    "print(Employee.num_employees)"
   ]
  },
  {
   "cell_type": "code",
   "execution_count": null,
   "metadata": {
    "collapsed": true
   },
   "outputs": [],
   "source": []
  }
 ],
 "metadata": {
  "kernelspec": {
   "display_name": "Python 3",
   "language": "python",
   "name": "python3"
  },
  "language_info": {
   "codemirror_mode": {
    "name": "ipython",
    "version": 3
   },
   "file_extension": ".py",
   "mimetype": "text/x-python",
   "name": "python",
   "nbconvert_exporter": "python",
   "pygments_lexer": "ipython3",
   "version": "3.6.3"
  }
 },
 "nbformat": 4,
 "nbformat_minor": 2
}
